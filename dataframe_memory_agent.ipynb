{
 "cells": [
  {
   "cell_type": "code",
   "execution_count": 1,
   "id": "9fa0d751",
   "metadata": {},
   "outputs": [
    {
     "name": "stderr",
     "output_type": "stream",
     "text": [
      "/Users/sahibpreetsingh/miniconda3/envs/sahib_lit/lib/python3.10/site-packages/pandas/core/arrays/masked.py:60: UserWarning: Pandas requires version '1.3.6' or newer of 'bottleneck' (version '1.3.5' currently installed).\n",
      "  from pandas.core import (\n"
     ]
    }
   ],
   "source": [
    "from langchain.agents import AgentExecutor, create_openai_functions_agent\n",
    "from langchain_core.messages import AIMessage, HumanMessage\n",
    "from langchain_core.prompts import MessagesPlaceholder\n",
    "from langchain_experimental.agents.agent_toolkits.pandas.base import _get_functions_single_prompt\n",
    "from langchain_experimental.tools.python.tool import PythonAstREPLTool\n",
    "from langchain_openai import ChatOpenAI\n",
    "import pandas as pd"
   ]
  },
  {
   "cell_type": "code",
   "execution_count": 2,
   "id": "9be5c678",
   "metadata": {},
   "outputs": [
    {
     "name": "stdout",
     "output_type": "stream",
     "text": [
      "  Jersey Color Team Name Country Name\n",
      "0          Red    Team A    Country X\n",
      "1         Blue    Team B    Country Y\n",
      "2        Green    Team C    Country Z\n",
      "3       Yellow    Team D    Country W\n",
      "4        Black    Team E    Country V\n"
     ]
    }
   ],
   "source": [
    "# Create a temporary DataFrame with sample data\n",
    "data = {\n",
    "    \"Jersey Color\": [\"Red\", \"Blue\", \"Green\", \"Yellow\", \"Black\"],\n",
    "    \"Team Name\": [\"Team A\", \"Team B\", \"Team C\", \"Team D\", \"Team E\"],\n",
    "    \"Country Name\": [\"Country X\", \"Country Y\", \"Country Z\", \"Country W\", \"Country V\"]\n",
    "}\n",
    "\n",
    "df = pd.DataFrame(data)\n",
    "\n",
    "# Display the temporary DataFrame\n",
    "print(df)"
   ]
  },
  {
   "cell_type": "code",
   "execution_count": 3,
   "id": "cdb6ba7a",
   "metadata": {},
   "outputs": [],
   "source": [
    "# This is a hack\n",
    "prompt = _get_functions_single_prompt(df)\n",
    "prompt.input_variables.append(\"chat_history\")\n",
    "prompt.messages.insert(1, MessagesPlaceholder(variable_name=\"chat_history\"))"
   ]
  },
  {
   "cell_type": "code",
   "execution_count": 4,
   "id": "3d7de7d9",
   "metadata": {},
   "outputs": [],
   "source": [
    "\n",
    "\n",
    "tools = [PythonAstREPLTool( locals={\"df\": df},description = \"\"\"\n",
    "A Python shell. Use this to execute python commands. Input should be a valid python command. \n",
    "Try and break the problem in steps and solve the prblem step by step.\n",
    "\"\"\")]\n",
    "\n",
    "chat_model = ChatOpenAI(model=\"gpt-4-0613\")\n",
    "agent = create_openai_functions_agent(chat_model, tools, prompt)\n",
    "agent_executor = AgentExecutor(agent=agent, tools=tools, verbose=True)"
   ]
  },
  {
   "cell_type": "code",
   "execution_count": 5,
   "id": "ea9fd331",
   "metadata": {},
   "outputs": [],
   "source": [
    "chat_history = []\n",
    "def memory_maker(query):\n",
    "    chat_history.extend(\n",
    "    [\n",
    "        HumanMessage(content=query),\n",
    "        AIMessage(content=response[\"output\"])\n",
    "    ],\n",
    "    )\n",
    "    return chat_history"
   ]
  },
  {
   "cell_type": "code",
   "execution_count": 6,
   "id": "bea93399",
   "metadata": {},
   "outputs": [
    {
     "name": "stdout",
     "output_type": "stream",
     "text": [
      "\n",
      "\n",
      "\u001b[1m> Entering new AgentExecutor chain...\u001b[0m\n",
      "\u001b[32;1m\u001b[1;3m\n",
      "Invoking: `python_repl_ast` with `{'query': 'df.shape[0]'}`\n",
      "\n",
      "\n",
      "\u001b[0m\u001b[36;1m\u001b[1;3m5\u001b[0m\u001b[32;1m\u001b[1;3mThe dataframe has 5 rows.\u001b[0m\n",
      "\n",
      "\u001b[1m> Finished chain.\u001b[0m\n",
      "The dataframe has 5 rows.\n"
     ]
    }
   ],
   "source": [
    "\n",
    "\n",
    "query = \"how many rows are in the dataframe?\"\n",
    "\n",
    "response = agent_executor.invoke({\"input\": query, \"chat_history\": chat_history})\n",
    "print(response[\"output\"])"
   ]
  },
  {
   "cell_type": "code",
   "execution_count": 7,
   "id": "50bcff04",
   "metadata": {},
   "outputs": [],
   "source": [
    "query='which team has blue jersey'"
   ]
  },
  {
   "cell_type": "code",
   "execution_count": 8,
   "id": "b3846a05",
   "metadata": {},
   "outputs": [
    {
     "name": "stdout",
     "output_type": "stream",
     "text": [
      "\n",
      "\n",
      "\u001b[1m> Entering new AgentExecutor chain...\u001b[0m\n",
      "\u001b[32;1m\u001b[1;3m\n",
      "Invoking: `python_repl_ast` with `{'query': \"df[df['Jersey Color'] == 'Blue']['Team Name']\"}`\n",
      "\n",
      "\n",
      "\u001b[0m\u001b[36;1m\u001b[1;3m1    Team B\n",
      "Name: Team Name, dtype: object\u001b[0m\u001b[32;1m\u001b[1;3mThe team with a blue jersey is Team B.\u001b[0m\n",
      "\n",
      "\u001b[1m> Finished chain.\u001b[0m\n",
      "The team with a blue jersey is Team B.\n"
     ]
    }
   ],
   "source": [
    "\n",
    "\n",
    "# query = \"What were we talking about?\"\n",
    "response = agent_executor.invoke({\"input\": query, \"chat_history\": memory_maker(query)})\n",
    "print(response[\"output\"])"
   ]
  },
  {
   "cell_type": "code",
   "execution_count": 9,
   "id": "0dd1430d",
   "metadata": {},
   "outputs": [],
   "source": [
    "query=\"and what's the country name of it?\""
   ]
  },
  {
   "cell_type": "code",
   "execution_count": 10,
   "id": "f7e6ca89",
   "metadata": {},
   "outputs": [
    {
     "name": "stdout",
     "output_type": "stream",
     "text": [
      "\n",
      "\n",
      "\u001b[1m> Entering new AgentExecutor chain...\u001b[0m\n",
      "\u001b[32;1m\u001b[1;3m\n",
      "Invoking: `python_repl_ast` with `{'query': \"df.loc[df['Jersey Color'] == 'Blue', 'Country Name'].values[0]\"}`\n",
      "\n",
      "\n",
      "\u001b[0m\u001b[36;1m\u001b[1;3mCountry Y\u001b[0m\u001b[32;1m\u001b[1;3mThe country of the team with a blue jersey is Country Y.\u001b[0m\n",
      "\n",
      "\u001b[1m> Finished chain.\u001b[0m\n",
      "The country of the team with a blue jersey is Country Y.\n"
     ]
    }
   ],
   "source": [
    "response = agent_executor.invoke({\"input\": query, \"chat_history\": memory_maker(query)})\n",
    "print(response[\"output\"])"
   ]
  },
  {
   "cell_type": "code",
   "execution_count": null,
   "id": "a94781a0",
   "metadata": {},
   "outputs": [],
   "source": []
  }
 ],
 "metadata": {
  "kernelspec": {
   "display_name": "Python 3 (ipykernel)",
   "language": "python",
   "name": "python3"
  },
  "language_info": {
   "codemirror_mode": {
    "name": "ipython",
    "version": 3
   },
   "file_extension": ".py",
   "mimetype": "text/x-python",
   "name": "python",
   "nbconvert_exporter": "python",
   "pygments_lexer": "ipython3",
   "version": "3.10.13"
  }
 },
 "nbformat": 4,
 "nbformat_minor": 5
}
