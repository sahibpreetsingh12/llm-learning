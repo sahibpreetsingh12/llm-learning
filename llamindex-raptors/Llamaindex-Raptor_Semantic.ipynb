{
 "cells": [
  {
   "cell_type": "markdown",
   "id": "ac4efb13",
   "metadata": {},
   "source": [
    " \n",
    "\n",
    "# <p style=\"color:Orange;\">Semantic Chunking</p>  +  <p style=\"color:Red;\">Raptors</p>  for RAG"
   ]
  },
  {
   "cell_type": "code",
   "execution_count": 1,
   "id": "d790e63e",
   "metadata": {},
   "outputs": [],
   "source": [
    "\n",
    "# %%capture\n",
    "# !pip install llama-index-packs-raptor"
   ]
  },
  {
   "cell_type": "markdown",
   "id": "5a2fe7f4",
   "metadata": {},
   "source": [
    "To read about Raptors - https://github.com/run-llama/llama_index/tree/main/llama-index-packs/llama-index-packs-raptor/llama_index/packs/raptor"
   ]
  },
  {
   "cell_type": "markdown",
   "id": "55d79a55",
   "metadata": {},
   "source": [
    "## Imports"
   ]
  },
  {
   "cell_type": "code",
   "execution_count": 2,
   "id": "3cc76835",
   "metadata": {},
   "outputs": [],
   "source": [
    "import shutup\n",
    "shutup.please()"
   ]
  },
  {
   "cell_type": "code",
   "execution_count": 3,
   "id": "f9ba5a96",
   "metadata": {},
   "outputs": [],
   "source": [
    "#Imports\n",
    "from llama_index.llms.openai import OpenAI\n",
    "import json\n",
    "from llama_index.embeddings.openai import OpenAIEmbedding\n",
    "\n",
    "from llama_index.core import (\n",
    "    VectorStoreIndex,\n",
    "    SimpleDirectoryReader,\n",
    "    load_index_from_storage,\n",
    "    StorageContext,\n",
    "    Document,\n",
    "    ServiceContext,\n",
    ")\n",
    "from llama_index.core import Settings\n",
    "#semantic chunking\n",
    "from llama_index.core.node_parser import (\n",
    "    SentenceSplitter,\n",
    "    SemanticSplitterNodeParser,\n",
    ")"
   ]
  },
  {
   "cell_type": "code",
   "execution_count": 4,
   "id": "83344ad3",
   "metadata": {},
   "outputs": [],
   "source": [
    "#using llama-parse for parsing complex documents"
   ]
  },
  {
   "cell_type": "markdown",
   "id": "bc212ad2",
   "metadata": {},
   "source": [
    "To use llama-parse refer to - https://cloud.llamaindex.ai/landing"
   ]
  },
  {
   "cell_type": "code",
   "execution_count": 5,
   "id": "c303fcb7",
   "metadata": {},
   "outputs": [],
   "source": [
    "# llama-parse is async-first, running the async code in a notebook requires the use of nest_asyncio\n",
    "import nest_asyncio\n",
    "nest_asyncio.apply()\n",
    "\n",
    "import os\n",
    "# API access to llama-cloud\n",
    "os.environ[\"LLAMA_CLOUD_API_KEY\"] = \"llx-\"\n",
    "\n",
    "# Using OpenAI API for embeddings/llms\n",
    "os.environ[\"OPENAI_API_KEY\"] = \"sk-\""
   ]
  },
  {
   "cell_type": "code",
   "execution_count": 6,
   "id": "e150a60b",
   "metadata": {},
   "outputs": [],
   "source": [
    "embed_model=OpenAIEmbedding(model=\"text-embedding-3-small\")\n",
    "llm = OpenAI(model=\"gpt-3.5-turbo-0125\")\n",
    "\n",
    "Settings.llm = llm\n",
    "Settings.embed_model = embed_model"
   ]
  },
  {
   "cell_type": "code",
   "execution_count": 7,
   "id": "ef72421e",
   "metadata": {},
   "outputs": [
    {
     "name": "stdout",
     "output_type": "stream",
     "text": [
      "Started parsing the file under job_id 678d0d89-482b-4088-8233-e01bd2ae07c9\n"
     ]
    }
   ],
   "source": [
    "from llama_parse import LlamaParse\n",
    "\n",
    "documents = LlamaParse(result_type=\"markdown\").load_data('/Users/sahibpreetsingh/Downloads/iPhone.pdf')"
   ]
  },
  {
   "cell_type": "code",
   "execution_count": 8,
   "id": "33bf47ab",
   "metadata": {},
   "outputs": [],
   "source": [
    "text_from_pdf = json.loads(documents[0].to_json())['text']"
   ]
  },
  {
   "cell_type": "markdown",
   "id": "61748d56",
   "metadata": {},
   "source": [
    "## Defining service context\n",
    "To reduce the chances of hallucination and set a persona for the CHAT ENGINE"
   ]
  },
  {
   "cell_type": "code",
   "execution_count": 9,
   "id": "e0455559",
   "metadata": {},
   "outputs": [],
   "source": [
    "service_context = ServiceContext.from_defaults(llm=OpenAI(model=\"gpt-3.5-turbo\", temperature=0.2, system_prompt=\"\"\"\n",
    "                                                                    You are an expert Analyser and Professor and your job is to answer \n",
    "                                                                    questions. Assume that all questions are related to the pdf user provided.\n",
    "                                                                    Keep your answers technical and based on facts – do not hallucinate features.\n",
    "                                                                    \"\"\"))"
   ]
  },
  {
   "cell_type": "markdown",
   "id": "0f30229d",
   "metadata": {},
   "source": [
    "## Semantic Chunking and Index creation"
   ]
  },
  {
   "cell_type": "markdown",
   "id": "2a30125c",
   "metadata": {},
   "source": [
    "## To understand semantic chunking :-\n",
    "1. https://docs.llamaindex.ai/en/latest/examples/node_parsers/semantic_chunking/"
   ]
  },
  {
   "cell_type": "code",
   "execution_count": 10,
   "id": "91ce858f",
   "metadata": {},
   "outputs": [],
   "source": [
    "embed_model = OpenAIEmbedding()\n",
    "splitter = SemanticSplitterNodeParser(\n",
    "    buffer_size=1, breakpoint_percentile_threshold=100, embed_model=embed_model\n",
    ")\n",
    "\n",
    "# also baseline splitter\n",
    "base_splitter = SentenceSplitter(chunk_size=512)\n",
    "nodes = splitter.get_nodes_from_documents(documents)\n",
    "\n",
    "index = VectorStoreIndex(nodes,service_context=service_context)"
   ]
  },
  {
   "cell_type": "code",
   "execution_count": 11,
   "id": "811a52b0",
   "metadata": {},
   "outputs": [
    {
     "name": "stdout",
     "output_type": "stream",
     "text": [
      "Added user message to memory: when was the first iphone realeased and who lauched it\n",
      "=== Calling Function ===\n",
      "Calling function: query_engine_tool with args: {\"input\": \"When was the first iPhone released?\"}\n",
      "Got output: The first iPhone was released on June 29, 2007.\n",
      "========================\n",
      "\n",
      "=== Calling Function ===\n",
      "Calling function: query_engine_tool with args: {\"input\": \"Who launched the first iPhone?\"}\n",
      "Got output: CEO Steve Jobs launched the first iPhone.\n",
      "========================\n",
      "\n"
     ]
    }
   ],
   "source": [
    "query_engine = index.as_chat_engine(chat_mode=\"react\", verbose=True)\n",
    "response = query_engine.query(\"when was the first iphone realeased and who lauched it\")"
   ]
  },
  {
   "cell_type": "code",
   "execution_count": 12,
   "id": "10a2e277",
   "metadata": {},
   "outputs": [
    {
     "data": {
      "text/plain": [
       "'The first iPhone was released on June 29, 2007, and it was launched by CEO Steve Jobs.'"
      ]
     },
     "execution_count": 12,
     "metadata": {},
     "output_type": "execute_result"
    }
   ],
   "source": [
    "response.response"
   ]
  },
  {
   "cell_type": "code",
   "execution_count": 13,
   "id": "615f493e",
   "metadata": {},
   "outputs": [
    {
     "name": "stdout",
     "output_type": "stream",
     "text": [
      "Added user message to memory: and what was the initial price of 4GB iphone\n",
      "=== Calling Function ===\n",
      "Calling function: query_engine_tool with args: {\"input\":\"What was the initial price of 4GB iPhone?\"}\n",
      "Got output: The initial price of the 4GB model of the iPhone was $499.\n",
      "========================\n",
      "\n"
     ]
    },
    {
     "data": {
      "text/plain": [
       "'The initial price of the 4GB iPhone was $499.'"
      ]
     },
     "execution_count": 13,
     "metadata": {},
     "output_type": "execute_result"
    }
   ],
   "source": [
    "response = query_engine.query(\"and what was the initial price of 4GB iphone\")\n",
    "response.response"
   ]
  },
  {
   "cell_type": "code",
   "execution_count": 14,
   "id": "07d11d81",
   "metadata": {},
   "outputs": [
    {
     "name": "stdout",
     "output_type": "stream",
     "text": [
      "Added user message to memory: and who conducted a study to show that people can wait to buy their wireless phone just to buy iphone?\n",
      "=== Calling Function ===\n",
      "Calling function: query_engine_tool with args: {\"input\":\"Who conducted a study to show that people can wait to buy their wireless phone just to buy an iPhone?\"}\n",
      "Got output: Sharma and Wingfield conducted a study to show that people can wait to buy their wireless phone just to buy an iPhone.\n",
      "========================\n",
      "\n"
     ]
    }
   ],
   "source": [
    "response = query_engine.query(\"and who conducted a study to show that people can wait to buy their wireless phone just to buy iphone?\")"
   ]
  },
  {
   "cell_type": "code",
   "execution_count": 15,
   "id": "8118733e",
   "metadata": {},
   "outputs": [
    {
     "name": "stdout",
     "output_type": "stream",
     "text": [
      "Added user message to memory: by how much apple reduced the iphone price after 2 months of sale?\n",
      "=== Calling Function ===\n",
      "Calling function: query_engine_tool with args: {\"input\":\"Calculate the percentage decrease in the iPhone price after 2 months of sale.\"}\n",
      "Got output: The iPhone price decreased by 33% ($200) after being on the market for only two months.\n",
      "========================\n",
      "\n"
     ]
    },
    {
     "data": {
      "text/plain": [
       "'Apple reduced the iPhone price by 33% ($200) after 2 months of sale.'"
      ]
     },
     "execution_count": 15,
     "metadata": {},
     "output_type": "execute_result"
    }
   ],
   "source": [
    "response = query_engine.query(\"by how much apple reduced the iphone price after 2 months of sale?\",)\n",
    "response.response"
   ]
  },
  {
   "cell_type": "markdown",
   "id": "c253d073",
   "metadata": {},
   "source": [
    "## Raptor Retriever"
   ]
  },
  {
   "cell_type": "code",
   "execution_count": 16,
   "id": "d508ba55",
   "metadata": {},
   "outputs": [],
   "source": [
    "from llama_index.packs.raptor import RaptorPack"
   ]
  },
  {
   "cell_type": "code",
   "execution_count": 17,
   "id": "64354dc3",
   "metadata": {},
   "outputs": [],
   "source": [
    "from llama_index.packs.raptor import RaptorRetriever\n",
    "\n",
    "retriever = RaptorRetriever(\n",
    "    [],\n",
    "    embed_model=OpenAIEmbedding(\n",
    "        model=\"text-embedding-3-small\"\n",
    "    ),  # used for embedding clusters\n",
    "    llm=OpenAI(model=\"gpt-3.5-turbo\", temperature=0.1),  # used for generating summaries\n",
    "\n",
    "    existing_index = index,\n",
    "    similarity_top_k=2,  # top k for each layer, or overall top-k for collapsed\n",
    "    mode=\"collapsed\",  # sets default mode\n",
    ")"
   ]
  },
  {
   "cell_type": "code",
   "execution_count": 18,
   "id": "f1808e97",
   "metadata": {},
   "outputs": [],
   "source": [
    "from llama_index.core.query_engine import RetrieverQueryEngine\n",
    "\n",
    "query_engine = RetrieverQueryEngine.from_args(\n",
    "    retriever, temperature=0.1,verbose=True)\n"
   ]
  },
  {
   "cell_type": "code",
   "execution_count": 19,
   "id": "83c506d2",
   "metadata": {},
   "outputs": [],
   "source": [
    "response = query_engine.query(\"when was the first iphone realeased and who lauched it and also what was place i am asking city name and in that city which specific place \",)\n"
   ]
  },
  {
   "cell_type": "code",
   "execution_count": 20,
   "id": "e35af400",
   "metadata": {},
   "outputs": [
    {
     "data": {
      "text/plain": [
       "'The first iPhone was released on June 29, 2007, by Apple Inc. The launch event took place in San Francisco at the Macworld convention.'"
      ]
     },
     "execution_count": 20,
     "metadata": {},
     "output_type": "execute_result"
    }
   ],
   "source": [
    "# str(response)\n",
    "response.response"
   ]
  },
  {
   "cell_type": "code",
   "execution_count": 21,
   "id": "501d5811",
   "metadata": {},
   "outputs": [],
   "source": [
    "response = query_engine.query(\"by how much apple reduced the iphone price after 2 months of sale? and what percetange is it?\",)"
   ]
  },
  {
   "cell_type": "code",
   "execution_count": 22,
   "id": "1c508748",
   "metadata": {},
   "outputs": [
    {
     "data": {
      "text/plain": [
       "'Apple reduced the iPhone price by $200 after 2 months of sale, which is a 33% reduction from the original price.'"
      ]
     },
     "execution_count": 22,
     "metadata": {},
     "output_type": "execute_result"
    }
   ],
   "source": [
    "response.response"
   ]
  },
  {
   "cell_type": "code",
   "execution_count": null,
   "id": "bfcd1bb6",
   "metadata": {},
   "outputs": [],
   "source": []
  }
 ],
 "metadata": {
  "kernelspec": {
   "display_name": "Python 3 (ipykernel)",
   "language": "python",
   "name": "python3"
  },
  "language_info": {
   "codemirror_mode": {
    "name": "ipython",
    "version": 3
   },
   "file_extension": ".py",
   "mimetype": "text/x-python",
   "name": "python",
   "nbconvert_exporter": "python",
   "pygments_lexer": "ipython3",
   "version": "3.9.18"
  }
 },
 "nbformat": 4,
 "nbformat_minor": 5
}
